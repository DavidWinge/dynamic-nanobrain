{
 "cells": [
  {
   "cell_type": "markdown",
   "id": "5db2abd8",
   "metadata": {},
   "source": [
    "# Leaky integrate and fire neuron by 3 neural nodes\n",
    "In this example we show how a single node performs temperol summation, a key\n",
    "feature in real neuron. Within a certian period in time, input signals are \n",
    "summed and if the resulting potential reaches above a threshold value, \n",
    "an output signal is generated."
   ]
  },
  {
   "cell_type": "code",
   "execution_count": 9,
   "id": "a567aede",
   "metadata": {},
   "outputs": [
    {
     "name": "stdout",
     "output_type": "stream",
     "text": [
      "The autoreload extension is already loaded. To reload it, use:\n",
      "  %reload_ext autoreload\n"
     ]
    }
   ],
   "source": [
    "%matplotlib inline\n",
    "%load_ext autoreload\n",
    "%autoreload 2\n",
    "\n",
    "import matplotlib.pyplot as plt\n",
    "import time\n",
    "\n",
    "# load the modules specific to this project\n",
    "from context import dynamicnanobrain\n",
    "import dynamicnanobrain.core.networker as nw\n",
    "import dynamicnanobrain.core.timemarching as tm\n",
    "import dynamicnanobrain.core.plotter as plotter\n",
    "import dynamicnanobrain.core.physics as physics\n",
    "import dynamicnanobrain.core.logger as logger\n",
    "\n",
    "plt.rcParams['figure.dpi'] = 100 # 200 e.g. is really fine, but slower"
   ]
  },
  {
   "cell_type": "markdown",
   "id": "3580929a",
   "metadata": {},
   "source": [
    "### 1. Define the layers\n",
    "Define the layers of nodes in terms of how they are connected to the channels. Layers and weights are organized in dictionaries. The input and output layers do not need to be changed, but for the hidden layer we need to specify the number of nodes N and assign the correct channels to the input/output of the node."
   ]
  },
  {
   "cell_type": "code",
   "execution_count": 10,
   "id": "0141f1aa",
   "metadata": {},
   "outputs": [],
   "source": [
    "# Create layers ordered from 0 to P organized in a dictionary\n",
    "layers = {} \n",
    "# An input layer automatically creates on node for each channel that we define\n",
    "layers[0] = nw.InputLayer(N=1)\n",
    "# Forward signal layer\n",
    "layers[1] = nw.HiddenLayer(N=1, output_channel='blue',excitation_channel='blue',inhibition_channel='red')\n",
    "# Inhibiting memory layer\n",
    "layers[2] = nw.HiddenLayer(N=1, output_channel='red' ,excitation_channel='blue',inhibition_channel='red')\n",
    "# Self-enforcing hidden layer\n",
    "layers[3] = nw.HiddenLayer(N=1, output_channel='blue',excitation_channel='blue',inhibition_channel='red')\n",
    "layers[4] = nw.OutputLayer(N=1) # similar to input layer"
   ]
  },
  {
   "cell_type": "markdown",
   "id": "e4d54191",
   "metadata": {},
   "source": [
    "### 3. Define existing connections between layers\n",
    "The weights are set in two steps. \n",
    "First the connetions between layers are defined. This should be done using the keys defined for each layer above, i.e. 0, 1, 2 ... for input, hidden and output layers, respectively. The `connect_layers` function returns a weight matrix object that we store under a chosen key, for example `'inp->hid'`.\n",
    "Second, the specific connections on the node-to-node level are specified using the node index in each layer"
   ]
  },
  {
   "cell_type": "code",
   "execution_count": 3,
   "id": "b7ac7b0d",
   "metadata": {},
   "outputs": [],
   "source": [
    "# Define the overall connectivity\n",
    "weights = {}\n",
    "# The syntax is connect_layers(from_layer, to_layer, layers, channels)\n",
    "weights['inp->hd0'] = nw.connect_layers(0, 1, layers, channel='blue')\n",
    "weights['hd0->hd1'] = nw.connect_layers(1, 2, layers, channel='blue')\n",
    "weights['hd0->out'] = nw.connect_layers(1, 4, layers, channel='blue')\n",
    "# Backwards connection from the memory\n",
    "weights['hd1->hd0'] = nw.connect_layers(2, 1, layers, channel='red')\n",
    "# Loop connection with the third hidden layer\n",
    "weights['hd0->hd2'] = nw.connect_layers(1, 3, layers, channel='blue')\n",
    "# Backwards connection from third layer\n",
    "weights['hd2->hd0'] = nw.connect_layers(3, 1, layers, channel='blue')\n",
    "\n",
    "# Define the specific node-to-node connections in the weight matrices\n",
    "self_inhib = 0.65\n",
    "self_excite = 2.0\n",
    "# The syntax is connect_nodes(from_node, to_node, channel=label, weight=value in weight matrix)\n",
    "# Input to first ring layer node\n",
    "weights['inp->hd0'].connect_nodes(0, 0, weight=1.0) # channels['blue']=1\n",
    "#weights['inp->hd0'].connect_nodes(channels['red'] ,0, channel='red', weight=1.0) # channels['blue']=1\n",
    "# Hidden layer connections\n",
    "weights['hd0->hd1'].connect_nodes(0 ,0 , weight=self_inhib) \n",
    "# Loop connections\n",
    "weights['hd0->hd2'].connect_nodes(0 ,0 , weight=self_excite)\n",
    "weights['hd2->hd0'].connect_nodes(0 ,0 , weight=self_excite)\n",
    "# Add damping connection\n",
    "weights['hd1->hd0'].connect_nodes(0 ,0 , weight=self_inhib)    \n",
    "# Connect to output\n",
    "weights['hd0->out'].connect_nodes(0, 0, weight=0.9)"
   ]
  },
  {
   "cell_type": "markdown",
   "id": "8fede681",
   "metadata": {
    "lines_to_next_cell": 0
   },
   "source": [
    "### 4. Visualize the network \n",
    "The `plotter` module supplies functions to visualize the network structure. The nodes are named by the layer type (Input, Hidden or Output) and the index. To supress the printing of weight values on each connection, please supply `show_edge_labels=False`.\n",
    "\n",
    "#### Available layouts:\n",
    "**multipartite**: Standard neural network appearance. Hard to see recurrent couplings within layers.  \n",
    "**circular**: Nodes drawn as a circle  \n",
    "**shell**: Layers drawn as concetric circles  \n",
    "**kamada_kawai**: Optimization to minimize weighted internode distance in graph  \n",
    "**spring**: Spring layout which is standard in `networkx` \n",
    "\n",
    "#### Shell layout\n",
    "This is my current favorite. It is configured to plot the input and output nodes on the outside of the hidden layer circle, in a combined outer concentric circle."
   ]
  },
  {
   "cell_type": "code",
   "execution_count": 4,
   "id": "6852e79a",
   "metadata": {},
   "outputs": [
    {
     "data": {
      "image/png": "[encoded data removed]",
      "text/plain": [
       "<Figure size 640x480 with 1 Axes>"
      ]
     },
     "metadata": {},
     "output_type": "display_data"
    },
    {
     "data": {
      "text/plain": [
       "{'H0': array([0., 0.]),\n",
       " 'K0': array([-0.16666669,  0.28867513]),\n",
       " 'L0': array([ 0.16666664, -0.28867516]),\n",
       " 'I0': array([-6.66666687e-01, -5.82818522e-08]),\n",
       " 'O0': array([6.66666687e-01, 1.16563704e-07])}"
      ]
     },
     "execution_count": 4,
     "metadata": {},
     "output_type": "execute_result"
    }
   ],
   "source": [
    "plotter.visualize_network(layers, weights, layout='shell', show_edge_labels=False,shell_order=[1,[2,3],[0,4]],savefig=True)"
   ]
  },
  {
   "cell_type": "markdown",
   "id": "7e478562",
   "metadata": {},
   "source": [
    "### 5. Specify the physics of the nodes\n",
    "Before running any simulations, we need to specify the input currents and the physics of the hidden layer nodes. Parameters can either be specified directly or coupled from the `physics` module. "
   ]
  },
  {
   "cell_type": "code",
   "execution_count": 5,
   "id": "300ba17e",
   "metadata": {},
   "outputs": [
    {
     "name": "stdout",
     "output_type": "stream",
     "text": [
      "Rstore for PtGate device:\n",
      "The parameter Rstore=5000000.0 Ohm\n",
      "Rstore for AuGate device:\n",
      "The parameter Rstore=2000000.0 Ohm\n",
      "Rstore for memory device:\n",
      "The parameter Rstore=20000000.0 Ohm\n"
     ]
    },
    {
     "data": {
      "image/png": "[encoded data removed]",
      "text/plain": [
       "<Figure size 700.787x350.394 with 2 Axes>"
      ]
     },
     "metadata": {},
     "output_type": "display_data"
    }
   ],
   "source": [
    "# Specify different types of devices for the hidden layers\n",
    "PtGate = physics.Device('../parameters/device_parameters_PtGate.txt')\n",
    "AuGate = physics.Device('../parameters/device_parameters.txt')\n",
    "# Tune the Rstore of the main node\n",
    "PtGate.set_parameter('Rstore',5e6)\n",
    "print('Rstore for PtGate device:')\n",
    "PtGate.print_parameter('Rstore')\n",
    "print('Rstore for AuGate device:')\n",
    "AuGate.print_parameter('Rstore')\n",
    "# 2. Memory (modify the parameters)\n",
    "memory = physics.Device('../parameters/device_parameters_PtGate.txt')\n",
    "memory.set_parameter('Rstore',2e7)\n",
    "print('Rstore for memory device:')\n",
    "memory.print_parameter('Rstore')\n",
    "\n",
    "# Plot the two different transistors\n",
    "plotter.visualize_transistor([AuGate.transistorIV_example(),PtGate.transistorIV_example()],labels=['AuGate-','PtGate-'])"
   ]
  },
  {
   "cell_type": "code",
   "execution_count": 6,
   "id": "ed747200",
   "metadata": {},
   "outputs": [
    {
     "name": "stdout",
     "output_type": "stream",
     "text": [
      "Main node Vthres= 1.2\n",
      "Memory layer Vthres= 0.9\n",
      "Loop node Vthres= 0.35\n",
      "Unity coupling coefficient calculated as unity_coeff=0.0284\n",
      "Imax is found to be 131.24835939550755 nA\n"
     ]
    }
   ],
   "source": [
    "# Specify the internal dynamics of each layer by assigning a device\n",
    "layers[1].assign_device(PtGate)\n",
    "layers[2].assign_device(memory)\n",
    "layers[3].assign_device(AuGate)\n",
    "# Tweak the threshold voltage\n",
    "layers[1].Vthres=1.2 # main node\n",
    "layers[2].Vthres=0.9 # memory, default value is 1.2 V\n",
    "layers[3].Vthres=0.35 # loop excitation node\n",
    "\n",
    "# Memory layer Vthres\n",
    "print('Main node Vthres=',layers[1].Vthres)\n",
    "print('Memory layer Vthres=', layers[2].Vthres)\n",
    "print('Loop node Vthres=', layers[3].Vthres)\n",
    "\n",
    "# Calculate the unity_coeff to scale the weights accordingly\n",
    "unity_coeff, Imax = AuGate.inverse_gain_coefficient(PtGate.eta_ABC, layers[3].Vthres)\n",
    "print(f'Unity coupling coefficient calculated as unity_coeff={unity_coeff:.4f}')\n",
    "print(f'Imax is found to be {Imax} nA')"
   ]
  },
  {
   "cell_type": "code",
   "execution_count": 7,
   "id": "14e10153",
   "metadata": {},
   "outputs": [],
   "source": [
    "# Specify an exciting arbitrary pulse train mixing 0.5 and 1 ns pulses\n",
    "t_blue = [(5.0,6.0), (8.0,8.5), (9.0,9,5), (10.0,11.0), (23.0,24.0), (30.0,31.0)] # \n",
    "#t_blue = [(5.0,6.0), (8.0,8.5), (9.0,9,5), (10.0,11.0)] # \n",
    "\n",
    "# Use the square pulse function and specify which node in the input layer gets which pulse\n",
    "layers[0].set_input_vector_func(func_handle=physics.square_pulse, func_args=(t_blue, 3.0*Imax))\n",
    "# Use the costant function to specify the inhibition from I0 to H0\n",
    "#layers[0].set_input_func(channel='red', func_handle=physics.constant, func_args=(I_red,))"
   ]
  },
  {
   "cell_type": "markdown",
   "id": "86ec87f3",
   "metadata": {},
   "source": [
    "### 6. Evolve in time"
   ]
  },
  {
   "cell_type": "code",
   "execution_count": 11,
   "id": "2434a998",
   "metadata": {},
   "outputs": [
    {
     "ename": "AttributeError",
     "evalue": "'NoneType' object has no attribute 'A'",
     "output_type": "error",
     "traceback": [
      "\u001b[0;31m---------------------------------------------------------------------------\u001b[0m",
      "\u001b[0;31mAttributeError\u001b[0m                            Traceback (most recent call last)",
      "Input \u001b[0;32mIn [11]\u001b[0m, in \u001b[0;36m<cell line: 17>\u001b[0;34m()\u001b[0m\n\u001b[1;32m     15\u001b[0m start \u001b[38;5;241m=\u001b[39m time\u001b[38;5;241m.\u001b[39mtime()\n\u001b[1;32m     17\u001b[0m \u001b[38;5;28;01mwhile\u001b[39;00m t \u001b[38;5;241m<\u001b[39m T:\n\u001b[1;32m     18\u001b[0m     \u001b[38;5;66;03m# evolve by calculating derivatives, provides dt\u001b[39;00m\n\u001b[0;32m---> 19\u001b[0m     dt \u001b[38;5;241m=\u001b[39m \u001b[43mtm\u001b[49m\u001b[38;5;241;43m.\u001b[39;49m\u001b[43mevolve\u001b[49m\u001b[43m(\u001b[49m\u001b[43mt\u001b[49m\u001b[43m,\u001b[49m\u001b[43m \u001b[49m\u001b[43mlayers\u001b[49m\u001b[43m,\u001b[49m\u001b[43m \u001b[49m\u001b[43mdVmax\u001b[49m\u001b[43m,\u001b[49m\u001b[43m \u001b[49m\u001b[43mdtmax\u001b[49m\u001b[43m \u001b[49m\u001b[43m)\u001b[49m\n\u001b[1;32m     21\u001b[0m     \u001b[38;5;66;03m# update with explicit Euler using dt\u001b[39;00m\n\u001b[1;32m     22\u001b[0m     \u001b[38;5;66;03m# supplying the unity_coeff here to scale the weights\u001b[39;00m\n\u001b[1;32m     23\u001b[0m     tm\u001b[38;5;241m.\u001b[39mupdate(dt, t, layers, weights, unity_coeff)\n",
      "File \u001b[0;32m~/Codes/dynamic-nanobrain/dynamicnanobrain/core/timemarching.py:45\u001b[0m, in \u001b[0;36mevolve\u001b[0;34m(t, layers, dVmax, dtmax)\u001b[0m\n\u001b[1;32m     42\u001b[0m \u001b[38;5;28;01mfor\u001b[39;00m layer \u001b[38;5;129;01min\u001b[39;00m layers\u001b[38;5;241m.\u001b[39mvalues() :\n\u001b[1;32m     43\u001b[0m     \u001b[38;5;28;01mif\u001b[39;00m layer\u001b[38;5;241m.\u001b[39mlayer_type \u001b[38;5;241m==\u001b[39m \u001b[38;5;124m'\u001b[39m\u001b[38;5;124mhidden\u001b[39m\u001b[38;5;124m'\u001b[39m :\n\u001b[1;32m     44\u001b[0m         \u001b[38;5;66;03m# Calculate the derivative of the voltages\u001b[39;00m\n\u001b[0;32m---> 45\u001b[0m         dV \u001b[38;5;241m=\u001b[39m \u001b[43mlayer\u001b[49m\u001b[38;5;241;43m.\u001b[39;49m\u001b[43mget_dV\u001b[49m\u001b[43m(\u001b[49m\u001b[43mt\u001b[49m\u001b[43m)\u001b[49m\n\u001b[1;32m     46\u001b[0m         max_dV_layer \u001b[38;5;241m=\u001b[39m np\u001b[38;5;241m.\u001b[39mabs(dV)\u001b[38;5;241m.\u001b[39mmax()\n\u001b[1;32m     47\u001b[0m         \u001b[38;5;66;03m# Save the largest dV we find\u001b[39;00m\n",
      "File \u001b[0;32m~/Codes/dynamic-nanobrain/dynamicnanobrain/core/networker.py:199\u001b[0m, in \u001b[0;36mHiddenLayer.get_dV\u001b[0;34m(self, t)\u001b[0m\n\u001b[1;32m    197\u001b[0m \u001b[38;5;124;03m\"\"\" Calculate the time derivative.\"\"\"\u001b[39;00m\n\u001b[1;32m    198\u001b[0m \u001b[38;5;28;01mif\u001b[39;00m \u001b[38;5;129;01mnot\u001b[39;00m \u001b[38;5;28mself\u001b[39m\u001b[38;5;241m.\u001b[39mmultiA :\n\u001b[0;32m--> 199\u001b[0m     \u001b[38;5;28mself\u001b[39m\u001b[38;5;241m.\u001b[39mdV \u001b[38;5;241m=\u001b[39m \u001b[38;5;28;43mself\u001b[39;49m\u001b[38;5;241;43m.\u001b[39;49m\u001b[43mdevice\u001b[49m\u001b[38;5;241;43m.\u001b[39;49m\u001b[43mA\u001b[49m \u001b[38;5;241m@\u001b[39m \u001b[38;5;28mself\u001b[39m\u001b[38;5;241m.\u001b[39mV \u001b[38;5;241m+\u001b[39m \u001b[38;5;28mself\u001b[39m\u001b[38;5;241m.\u001b[39mBscale \u001b[38;5;241m@\u001b[39m \u001b[38;5;28mself\u001b[39m\u001b[38;5;241m.\u001b[39mB\n\u001b[1;32m    200\u001b[0m \u001b[38;5;28;01melse\u001b[39;00m :\n\u001b[1;32m    201\u001b[0m     \u001b[38;5;28mself\u001b[39m\u001b[38;5;241m.\u001b[39mdV \u001b[38;5;241m=\u001b[39m np\u001b[38;5;241m.\u001b[39meinsum(\u001b[38;5;124m'\u001b[39m\u001b[38;5;124mjik,kj->ij\u001b[39m\u001b[38;5;124m'\u001b[39m,\u001b[38;5;28mself\u001b[39m\u001b[38;5;241m.\u001b[39mAdist,\u001b[38;5;28mself\u001b[39m\u001b[38;5;241m.\u001b[39mV) \u001b[38;5;241m+\u001b[39m \u001b[38;5;28mself\u001b[39m\u001b[38;5;241m.\u001b[39mBscale \u001b[38;5;241m@\u001b[39m \u001b[38;5;28mself\u001b[39m\u001b[38;5;241m.\u001b[39mB\n",
      "\u001b[0;31mAttributeError\u001b[0m: 'NoneType' object has no attribute 'A'"
     ]
    }
   ],
   "source": [
    "# Start time t, end time T\n",
    "t = 0.0\n",
    "T = 40.0 # ns\n",
    "# To sample result over a fixed time-step, use savetime\n",
    "savestep = 0.1\n",
    "savetime = savestep\n",
    "# These parameters are used to determine an appropriate time step each update\n",
    "dtmax = 0.1 # ns \n",
    "dVmax = 0.005 # V\n",
    "\n",
    "nw.reset(layers)\n",
    "# Create a log over the dynamic data\n",
    "time_log = logger.Logger(layers) # might need some flags\n",
    "\n",
    "start = time.time()\n",
    "\n",
    "while t < T:\n",
    "    # evolve by calculating derivatives, provides dt\n",
    "    dt = tm.evolve(t, layers, dVmax, dtmax )\n",
    "\n",
    "    # update with explicit Euler using dt\n",
    "    # supplying the unity_coeff here to scale the weights\n",
    "    tm.update(dt, t, layers, weights, unity_coeff)\n",
    "    \n",
    "    t += dt\n",
    "    # Log the progress\n",
    "    if t > savetime :\n",
    "        # Put log update here to have (more or less) fixed sample rate\n",
    "        # Now this is only to check progress\n",
    "        print(f'Time at t={t} ns') \n",
    "        savetime += savestep\n",
    "    \n",
    "    time_log.add_tstep(t, layers, unity_coeff)\n",
    "\n",
    "end = time.time()\n",
    "print('Time used:',end-start)\n",
    "\n",
    "# This is a large pandas data frame of all system variables\n",
    "result = time_log.get_timelog()"
   ]
  },
  {
   "cell_type": "markdown",
   "id": "4a233754",
   "metadata": {},
   "source": [
    "### 7. Visualize results\n",
    "Plot results specific to certain nodes"
   ]
  },
  {
   "cell_type": "code",
   "execution_count": null,
   "id": "a7686060",
   "metadata": {},
   "outputs": [],
   "source": [
    "nodes = ['H0','K0','L0']\n",
    "plotter.plot_nodes(result, nodes, onecolumn=True)"
   ]
  },
  {
   "cell_type": "markdown",
   "id": "f6efd8b9",
   "metadata": {},
   "source": [
    "For this system it's quite elegant to use the `plot_chainlist` function, taking as arguments a graph object, the source node (I1 for blue) and a target node (O1 for blue)"
   ]
  },
  {
   "cell_type": "code",
   "execution_count": null,
   "id": "33934a9a",
   "metadata": {},
   "outputs": [],
   "source": [
    "# Variable G contains a graph object descibing the network\n",
    "G = plotter.retrieve_G(layers, weights)\n",
    "#plotter.plot_chainlist(result,G,'I1','L0')\n",
    "plotter.plot_chainlist(result,G,'I0','K0')\n",
    "plotter.plot_chainlist(result,G,'I0','L0')"
   ]
  },
  {
   "cell_type": "markdown",
   "id": "35c4678b",
   "metadata": {},
   "source": [
    "Plot specific attributes"
   ]
  },
  {
   "cell_type": "code",
   "execution_count": null,
   "id": "e5a92b44",
   "metadata": {},
   "outputs": [],
   "source": [
    "attr_list = ['Vgate']\n",
    "plotter.plot_attributes(result, attr_list)"
   ]
  },
  {
   "cell_type": "markdown",
   "id": "7c5ac628",
   "metadata": {},
   "source": [
    "We can be totally specific if we want. First we list the available columns to choose from"
   ]
  },
  {
   "cell_type": "code",
   "execution_count": null,
   "id": "f9f27c1f",
   "metadata": {
    "lines_to_next_cell": 2
   },
   "outputs": [],
   "source": [
    "print(result.columns)"
   ]
  }
 ],
 "metadata": {
  "jupytext": {
   "formats": "ipynb,py:percent"
  },
  "kernelspec": {
   "display_name": "Python 3",
   "language": "python",
   "name": "python3"
  },
  "language_info": {
   "codemirror_mode": {
    "name": "ipython",
    "version": 3
   },
   "file_extension": ".py",
   "mimetype": "text/x-python",
   "name": "python",
   "nbconvert_exporter": "python",
   "pygments_lexer": "ipython3",
   "version": "3.9.7"
  }
 },
 "nbformat": 4,
 "nbformat_minor": 5
}
